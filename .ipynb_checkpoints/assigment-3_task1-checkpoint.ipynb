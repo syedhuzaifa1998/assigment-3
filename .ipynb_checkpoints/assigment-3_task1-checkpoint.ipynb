{
 "cells": [
  {
   "cell_type": "code",
   "execution_count": null,
   "metadata": {},
   "outputs": [],
   "source": [
    "print(\"Calculator\")\n",
    "a=0\n",
    "\n",
    "print(\"Enter 1st number\")\n",
    "num1=float(input())\n",
    "print(\"Enter 2nd number\")\n",
    "num2=float(input())\n",
    "print(\"Press 1 for addition\")\n",
    "print(\"Press 2 for subtraction\")\n",
    "print(\"Press 3 for division\")\n",
    "print(\"Press 4 for multipilication\")\n",
    "print(\"Press 5 for power\")\n",
    "print(\"Note: for power 1st number for base and 2nd for power\")\n",
    "check=int(input())\n",
    "if(check==1):\n",
    "    print(\"Result is: \"+str(num1+num2))\n",
    "elif(check==2):\n",
    "    print(\"Result is: \"+str(num1-num2))\n",
    "elif(check==3):\n",
    "    print(\"Result is: \"+str(num1/num2))\n",
    "elif(check==4):\n",
    "    print(\"Result is: \"+str(num1*num2))\n",
    "elif(check==5):\n",
    "    p1=pow(num1,num2)\n",
    "    print(\"Result is: \"+str(p1))\n",
    "\n",
    "    \n",
    "\n",
    "\n",
    "\n"
   ]
  },
  {
   "cell_type": "code",
   "execution_count": null,
   "metadata": {},
   "outputs": [],
   "source": []
  },
  {
   "cell_type": "code",
   "execution_count": null,
   "metadata": {},
   "outputs": [],
   "source": []
  },
  {
   "cell_type": "code",
   "execution_count": null,
   "metadata": {},
   "outputs": [],
   "source": []
  },
  {
   "cell_type": "code",
   "execution_count": null,
   "metadata": {},
   "outputs": [],
   "source": []
  },
  {
   "cell_type": "code",
   "execution_count": null,
   "metadata": {},
   "outputs": [],
   "source": []
  },
  {
   "cell_type": "code",
   "execution_count": null,
   "metadata": {},
   "outputs": [],
   "source": []
  },
  {
   "cell_type": "code",
   "execution_count": null,
   "metadata": {},
   "outputs": [],
   "source": []
  },
  {
   "cell_type": "code",
   "execution_count": null,
   "metadata": {},
   "outputs": [],
   "source": []
  }
 ],
 "metadata": {
  "kernelspec": {
   "display_name": "Python 3",
   "language": "python",
   "name": "python3"
  },
  "language_info": {
   "codemirror_mode": {
    "name": "ipython",
    "version": 3
   },
   "file_extension": ".py",
   "mimetype": "text/x-python",
   "name": "python",
   "nbconvert_exporter": "python",
   "pygments_lexer": "ipython3",
   "version": "3.7.4"
  }
 },
 "nbformat": 4,
 "nbformat_minor": 4
}
