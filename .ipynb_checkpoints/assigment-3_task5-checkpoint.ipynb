{
 "cells": [
  {
   "cell_type": "code",
   "execution_count": 1,
   "metadata": {},
   "outputs": [
    {
     "name": "stdout",
     "output_type": "stream",
     "text": [
      "list have duplicate elements\n"
     ]
    }
   ],
   "source": [
    "def duplicate(list1):\n",
    "    # Check if given list contains any duplicates \n",
    "    if len(list1) == len(set(list1)):\n",
    "        return False\n",
    "    else:\n",
    "        return True\n",
    "\n",
    "list1 = [\"Syed\", \"Shaikh\", 'ali', 55, 45, \"Syed\"]\n",
    " \n",
    "result = duplicate(list1)\n",
    " \n",
    "if result:\n",
    "    print('list have duplicate elements')\n",
    "else:\n",
    "    print('list have no duplicate elements')"
   ]
  },
  {
   "cell_type": "code",
   "execution_count": null,
   "metadata": {},
   "outputs": [],
   "source": []
  }
 ],
 "metadata": {
  "kernelspec": {
   "display_name": "Python 3",
   "language": "python",
   "name": "python3"
  },
  "language_info": {
   "codemirror_mode": {
    "name": "ipython",
    "version": 3
   },
   "file_extension": ".py",
   "mimetype": "text/x-python",
   "name": "python",
   "nbconvert_exporter": "python",
   "pygments_lexer": "ipython3",
   "version": "3.7.4"
  }
 },
 "nbformat": 4,
 "nbformat_minor": 4
}
