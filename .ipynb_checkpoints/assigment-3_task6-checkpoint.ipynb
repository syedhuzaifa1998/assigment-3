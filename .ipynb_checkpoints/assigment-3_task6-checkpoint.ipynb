{
 "cells": [
  {
   "cell_type": "code",
   "execution_count": 1,
   "metadata": {},
   "outputs": [
    {
     "name": "stdout",
     "output_type": "stream",
     "text": [
      "Given KEY is present key Value is: 20\n"
     ]
    }
   ],
   "source": [
    "def findK(d1, k1): \n",
    "      \n",
    "    if k1 in d1.keys(): \n",
    "        print(\"Given KEY is present\", end =\" \") \n",
    "        print(\"key Value is:\",d1[k1]) \n",
    "    else: \n",
    "        print(\"Given KEY is not present\") \n",
    "  \n",
    "\n",
    "d1 = {'Abd': 2100, 'AJ':20, 'Faaiz':1300} \n",
    "  \n",
    "k1 = 'AJ'\n",
    "findK(d1, k1)"
   ]
  },
  {
   "cell_type": "code",
   "execution_count": null,
   "metadata": {},
   "outputs": [],
   "source": []
  },
  {
   "cell_type": "code",
   "execution_count": null,
   "metadata": {},
   "outputs": [],
   "source": []
  },
  {
   "cell_type": "code",
   "execution_count": null,
   "metadata": {},
   "outputs": [],
   "source": []
  },
  {
   "cell_type": "code",
   "execution_count": null,
   "metadata": {},
   "outputs": [],
   "source": []
  },
  {
   "cell_type": "code",
   "execution_count": null,
   "metadata": {},
   "outputs": [],
   "source": []
  }
 ],
 "metadata": {
  "kernelspec": {
   "display_name": "Python 3",
   "language": "python",
   "name": "python3"
  },
  "language_info": {
   "codemirror_mode": {
    "name": "ipython",
    "version": 3
   },
   "file_extension": ".py",
   "mimetype": "text/x-python",
   "name": "python",
   "nbconvert_exporter": "python",
   "pygments_lexer": "ipython3",
   "version": "3.7.4"
  }
 },
 "nbformat": 4,
 "nbformat_minor": 4
}
