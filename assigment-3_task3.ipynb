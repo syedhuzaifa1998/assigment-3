{
 "cells": [
  {
   "cell_type": "code",
   "execution_count": 1,
   "metadata": {},
   "outputs": [
    {
     "name": "stdout",
     "output_type": "stream",
     "text": [
      "{'Hh': 27, 'Ss': 98}\n",
      "{'Hh': 12, 'Ss': 33, 'Yy': 4}\n"
     ]
    }
   ],
   "source": [
    "\n",
    "temp_dictionary = {'Hh': 27, 'Ss': 98}\n",
    "print(temp_dictionary)\n",
    "temp_dictionary['Hh'] = 12  \n",
    "temp_dictionary['Ss'] = 33  \n",
    "temp_dictionary['Yy'] = 4\n",
    "print(temp_dictionary)\n"
   ]
  },
  {
   "cell_type": "code",
   "execution_count": null,
   "metadata": {},
   "outputs": [],
   "source": []
  },
  {
   "cell_type": "code",
   "execution_count": null,
   "metadata": {},
   "outputs": [],
   "source": []
  }
 ],
 "metadata": {
  "kernelspec": {
   "display_name": "Python 3",
   "language": "python",
   "name": "python3"
  },
  "language_info": {
   "codemirror_mode": {
    "name": "ipython",
    "version": 3
   },
   "file_extension": ".py",
   "mimetype": "text/x-python",
   "name": "python",
   "nbconvert_exporter": "python",
   "pygments_lexer": "ipython3",
   "version": "3.7.4"
  }
 },
 "nbformat": 4,
 "nbformat_minor": 4
}
